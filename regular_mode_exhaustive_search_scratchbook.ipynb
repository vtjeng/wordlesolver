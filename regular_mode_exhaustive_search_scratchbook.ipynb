{
 "cells": [
  {
   "cell_type": "code",
   "execution_count": 1,
   "metadata": {},
   "outputs": [],
   "source": [
    "include(\"utils.jl\");\n",
    "ProgressMeter.ijulia_behavior(:clear);"
   ]
  },
  {
   "cell_type": "code",
   "execution_count": 2,
   "metadata": {},
   "outputs": [
    {
     "name": "stdout",
     "output_type": "stream",
     "text": [
      " 18.732345 seconds (172.37 M allocations: 14.203 GiB, 8.59% gc time, 0.04% compilation time)\n",
      "Updated MAX_NUM_SHARDS to 150.\n"
     ]
    }
   ],
   "source": [
    "cache_word_scores(ALL_WORDS, SOLUTION_WORDS)\n",
    "optimize_max_num_shards()"
   ]
  },
  {
   "cell_type": "code",
   "execution_count": null,
   "metadata": {},
   "outputs": [
    {
     "name": "stderr",
     "output_type": "stream",
     "text": [
      "\r",
      "\u001b[32mProgress:  12%|████▉                                    |  ETA: 0:32:31\u001b[39m\r\n",
      "\u001b[34m  guesses:  [1]\u001b[39m"
     ]
    }
   ],
   "source": [
    "r = get_optimal_strategy_exhaustive(\n",
    "    ALL_WORD_IDXS,\n",
    "    SOLUTION_WORD_IDXS,\n",
    "    hard_mode = false,\n",
    "    turns_budget = 4,\n",
    ")"
   ]
  },
  {
   "cell_type": "code",
   "execution_count": null,
   "metadata": {},
   "outputs": [],
   "source": []
  }
 ],
 "metadata": {
  "kernelspec": {
   "display_name": "Julia 1.7.1",
   "language": "julia",
   "name": "julia-1.7"
  },
  "language_info": {
   "file_extension": ".jl",
   "mimetype": "application/julia",
   "name": "julia",
   "version": "1.7.1"
  }
 },
 "nbformat": 4,
 "nbformat_minor": 5
}

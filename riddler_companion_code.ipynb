{
 "cells": [
  {
   "cell_type": "markdown",
   "id": "4c42d7a4-569f-46ad-8009-9ddbf62c8f1a",
   "metadata": {},
   "source": [
    "# 538 Riddler - Optimal Wordle\n",
    "\n",
    "Accompanying code to https://laurentlessard.com/bookproofs/optimal-wordle/."
   ]
  },
  {
   "cell_type": "code",
   "execution_count": 1,
   "id": "e4060d2f-045d-462d-a4ad-b412b5f2bbbb",
   "metadata": {},
   "outputs": [
    {
     "name": "stderr",
     "output_type": "stream",
     "text": [
      "Unable to init server: Could not connect: Connection refused\n",
      "Unable to init server: Could not connect: Connection refused\n",
      "\n",
      "(.:8759): Gdk-CRITICAL **: 19:01:22.149: gdk_cursor_new_for_display: assertion 'GDK_IS_DISPLAY (display)' failed\n",
      "\n",
      "(.:8759): Gdk-CRITICAL **: 19:01:22.154: gdk_cursor_new_for_display: assertion 'GDK_IS_DISPLAY (display)' failed\n"
     ]
    }
   ],
   "source": [
    "# for prop, freqtable\n",
    "using FreqTables\n",
    "include(\"utils.jl\");"
   ]
  },
  {
   "cell_type": "markdown",
   "id": "1436097c",
   "metadata": {},
   "source": [
    "## When is it optimal not to guess a word in the list of possible solutions?"
   ]
  },
  {
   "cell_type": "code",
   "execution_count": 2,
   "id": "7cdab66e",
   "metadata": {},
   "outputs": [],
   "source": [
    "groups = get_groups(\"trace\", SOLUTION_WORDS);"
   ]
  },
  {
   "cell_type": "markdown",
   "id": "57101369",
   "metadata": {},
   "source": [
    "After a first guess of 'trace', there are 75 scores for which this is true; we show the optimal second guess and the optimal second guess from the solution list. "
   ]
  },
  {
   "cell_type": "code",
   "execution_count": 7,
   "id": "3ecdab45",
   "metadata": {
    "scrolled": true
   },
   "outputs": [
    {
     "name": "stdout",
     "output_type": "stream",
     "text": [
      "Score: 00012, Guess: shown / close, Num splits: 14 / 12\n",
      "Score: 02002, Guess: pound / pride, Num splits: 15 / 12\n",
      "Score: 02001, Guess: defer / freed, Num splits: 15 / 13\n",
      "Score: 02020, Guess: cubic / crock, Num splits: 5 / 4\n",
      "Score: 22200, Guess: stilt / trail, Num splits: 6 / 4\n",
      "Score: 00020, Guess: chump / couch, Num splits: 21 / 19\n",
      "Score: 01200, Guess: would / shard, Num splits: 12 / 9\n",
      "Score: 11100, Guess: worry / warty, Num splits: 11 / 10\n",
      "Score: 20002, Guess: shell / these, Num splits: 10 / 8\n",
      "Score: 10100, Guess: spiny / satin, Num splits: 26 / 25\n",
      "Score: 00111, Guess: olden / decal, Num splits: 10 / 8\n",
      "Score: 02000, Guess: guild / grind, Num splits: 27 / 21\n",
      "Score: 22002, Guess: spite / trope, Num splits: 5 / 4\n",
      "Score: 02011, Guess: plied / creed, Num splits: 8 / 6\n",
      "Score: 21101, Guess: tempo / taper, Num splits: 4 / 3\n",
      "Score: 00110, Guess: limbo / canal, Num splits: 19 / 19\n",
      "Score: 01001, Guess: sinew / risen, Num splits: 34 / 30\n",
      "Score: 02210, Guess: wispy / crass, Num splits: 5 / 3\n",
      "Score: 10102, Guess: plush / haste, Num splits: 9 / 7\n",
      "Score: 20100, Guess: nobly / talon, Num splits: 16 / 13\n",
      "Score: 00102, Guess: slump / angle, Num splits: 21 / 17\n",
      "Score: 01100, Guess: lorry / manor, Num splits: 28 / 26\n",
      "Score: 10001, Guess: spilt / sleet, Num splits: 31 / 30\n",
      "Score: 10011, Guess: solve / scent, Num splits: 7 / 6\n",
      "Score: 11101, Guess: wheel / later, Num splits: 9 / 8\n",
      "Score: 20000, Guess: using / tying, Num splits: 14 / 13\n",
      "Score: 02212, Guess: zonal / craze, Num splits: 3 / 2\n",
      "Score: 00021, Guess: whelp / welch, Num splits: 10 / 9\n",
      "Score: 00221, Guess: whelp / peach, Num splits: 3 / 2\n",
      "Score: 11200, Guess: skimp / start, Num splits: 7 / 6\n",
      "Score: 11000, Guess: shout / short, Num splits: 21 / 20\n",
      "Score: 22000, Guess: slush / trust, Num splits: 9 / 7\n",
      "Score: 10110, Guess: taunt / catty, Num splits: 8 / 7\n",
      "Score: 02012, Guess: unzip / creme, Num splits: 5 / 4\n",
      "Score: 00002, Guess: sling / snipe, Num splits: 46 / 33\n",
      "Score: 01000, Guess: sound / surly, Num splits: 34 / 33\n",
      "Score: 00101, Guess: kneel / penal, Num splits: 27 / 26\n",
      "Score: 00200, Guess: slink / slain, Num splits: 30 / 24\n",
      "Score: 10020, Guess: hound / hitch, Num splits: 11 / 6\n",
      "Score: 10201, Guess: sadly / least, Num splits: 9 / 7\n",
      "Score: 00202, Guess: slump / slave, Num splits: 18 / 12\n",
      "Score: 00201, Guess: humid / leash, Num splits: 7 / 6\n",
      "Score: 12000, Guess: unfit / frost, Num splits: 12 / 11\n",
      "Score: 00100, Guess: solid / salon, Num splits: 49 / 48\n",
      "Score: 01011, Guess: crier / cider, Num splits: 11 / 10\n",
      "Score: 21000, Guess: humor / turbo, Num splits: 10 / 9\n",
      "Score: 02202, Guess: pudgy / drape, Num splits: 6 / 5\n",
      "Score: 01002, Guess: sprig / reuse, Num splits: 22 / 20\n",
      "Score: 01201, Guess: reply / ready, Num splits: 8 / 6\n",
      "Score: 02010, Guess: spunk / crump, Num splits: 11 / 7\n",
      "Score: 00210, Guess: spilt / clasp, Num splits: 13 / 12\n",
      "Score: 01102, Guess: align / large, Num splits: 8 / 7\n",
      "Score: 20001, Guess: needy / tenet, Num splits: 12 / 11\n",
      "Score: 10021, Guess: yield / evict, Num splits: 5 / 4\n",
      "Score: 10202, Guess: gloss / slate, Num splits: 8 / 6\n",
      "Score: 02200, Guess: blind / brand, Num splits: 18 / 12\n",
      "Score: 00220, Guess: blush / slack, Num splits: 10 / 5\n",
      "Score: 00022, Guess: opium / piece, Num splits: 11 / 8\n",
      "Score: 01101, Guess: palsy / gamer, Num splits: 18 / 16\n",
      "Score: 00001, Guess: blind / widen, Num splits: 45 / 44\n",
      "Score: 10002, Guess: quilt / utile, Num splits: 14 / 13\n",
      "Score: 01202, Guess: swung / spare, Num splits: 5 / 3\n",
      "Score: 21001, Guess: weigh / timer, Num splits: 7 / 6\n",
      "Score: 10200, Guess: slink / slant, Num splits: 16 / 14\n",
      "Score: 00112, Guess: youth / cause, Num splits: 4 / 2\n",
      "Score: 10120, Guess: plumb / watch, Num splits: 5 / 2\n",
      "Score: 01020, Guess: zonal / porch, Num splits: 3 / 2\n",
      "Score: 01210, Guess: slimy / scary, Num splits: 5 / 4\n",
      "Score: 20010, Guess: unzip / tunic, Num splits: 4 / 3\n"
     ]
    }
   ],
   "source": [
    "for (score, trimmed_pool) in groups\n",
    "    parsed_score = lpad(string(score, base=3), 5, \"0\")\n",
    "    guess = find_move(SOLUTION_WORDS, trimmed_pool, heuristic = PRIORITIZE_SPLITS)\n",
    "    if !(guess in trimmed_pool)\n",
    "        guess_hard = find_move(trimmed_pool, trimmed_pool, heuristic = PRIORITIZE_SPLITS)\n",
    "        l = length(get_group_sizes(guess, trimmed_pool))\n",
    "        l_hard = length(get_group_sizes(guess_hard, trimmed_pool))\n",
    "        println(\"Score: $(parsed_score), Guess: $(guess) / $(guess_hard), Num splits: $(l) / $(l_hard)\")\n",
    "    end\n",
    "end"
   ]
  },
  {
   "cell_type": "markdown",
   "id": "3ff79d14",
   "metadata": {},
   "source": [
    "As a case study: if the Wordle score is 01020 (corresponding to yellow in the second position and green in the fourth), we have the following words, which can be disambiguated via the guess 'zonal' in a guaranteed two guesses"
   ]
  },
  {
   "cell_type": "code",
   "execution_count": 5,
   "id": "309f1752",
   "metadata": {},
   "outputs": [
    {
     "data": {
      "text/plain": [
       "3-element Vector{String}:\n",
       " \"birch\"\n",
       " \"lurch\"\n",
       " \"porch\""
      ]
     },
     "execution_count": 5,
     "metadata": {},
     "output_type": "execute_result"
    }
   ],
   "source": [
    "groups[parse(UInt8, \"01020\"; base = 3)]"
   ]
  },
  {
   "cell_type": "code",
   "execution_count": null,
   "id": "b5e7237f",
   "metadata": {},
   "outputs": [],
   "source": []
  }
 ],
 "metadata": {
  "kernelspec": {
   "display_name": "Julia 1.7.1",
   "language": "julia",
   "name": "julia-1.7"
  },
  "language_info": {
   "file_extension": ".jl",
   "mimetype": "application/julia",
   "name": "julia",
   "version": "1.7.1"
  }
 },
 "nbformat": 4,
 "nbformat_minor": 5
}

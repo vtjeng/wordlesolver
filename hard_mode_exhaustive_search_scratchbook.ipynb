{
 "cells": [
  {
   "cell_type": "code",
   "execution_count": 1,
   "metadata": {},
   "outputs": [],
   "source": [
    "include(\"utils.jl\");\n",
    "ProgressMeter.ijulia_behavior(:clear);"
   ]
  },
  {
   "cell_type": "code",
   "execution_count": 2,
   "metadata": {},
   "outputs": [
    {
     "name": "stdout",
     "output_type": "stream",
     "text": [
      "  4.366371 seconds (29.79 M allocations: 2.520 GiB, 10.49% gc time, 0.19% compilation time)\n",
      "Updated MAX_NUM_SHARDS to 150.\n"
     ]
    }
   ],
   "source": [
    "cache_word_scores(SOLUTION_WORDS, SOLUTION_WORDS)\n",
    "optimize_max_num_shards()"
   ]
  },
  {
   "cell_type": "code",
   "execution_count": null,
   "metadata": {},
   "outputs": [],
   "source": [
    "r = get_optimal_strategy_exhaustive(\n",
    "    SOLUTION_WORD_IDXS,\n",
    "    SOLUTION_WORD_IDXS,\n",
    "    hard_mode = true,\n",
    "    turns_budget = 5,\n",
    ");"
   ]
  },
  {
   "cell_type": "code",
   "execution_count": null,
   "metadata": {},
   "outputs": [],
   "source": [
    "Statistics.mean(r[1])"
   ]
  },
  {
   "cell_type": "code",
   "execution_count": null,
   "metadata": {},
   "outputs": [],
   "source": []
  }
 ],
 "metadata": {
  "kernelspec": {
   "display_name": "Julia 1.7.1",
   "language": "julia",
   "name": "julia-1.7"
  },
  "language_info": {
   "file_extension": ".jl",
   "mimetype": "application/julia",
   "name": "julia",
   "version": "1.7.1"
  }
 },
 "nbformat": 4,
 "nbformat_minor": 5
}
